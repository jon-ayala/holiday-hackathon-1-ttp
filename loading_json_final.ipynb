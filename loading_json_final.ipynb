{
 "cells": [
  {
   "cell_type": "markdown",
   "metadata": {},
   "source": [
    "SOURCE\n",
    "https://ram-parameswaran22.medium.com/a-relatively-faster-approach-for-reading-json-lines-file-into-pandas-dataframe-90b57353fd38"
   ]
  },
  {
   "cell_type": "code",
   "execution_count": 4,
   "metadata": {},
   "outputs": [],
   "source": [
    "import pandas as pd\n",
    "import json\n",
    "import seaborn as sns"
   ]
  },
  {
   "cell_type": "code",
   "execution_count": 19,
   "metadata": {},
   "outputs": [
    {
     "data": {
      "text/html": [
       "<div>\n",
       "<style scoped>\n",
       "    .dataframe tbody tr th:only-of-type {\n",
       "        vertical-align: middle;\n",
       "    }\n",
       "\n",
       "    .dataframe tbody tr th {\n",
       "        vertical-align: top;\n",
       "    }\n",
       "\n",
       "    .dataframe thead th {\n",
       "        text-align: right;\n",
       "    }\n",
       "</style>\n",
       "<table border=\"1\" class=\"dataframe\">\n",
       "  <thead>\n",
       "    <tr style=\"text-align: right;\">\n",
       "      <th></th>\n",
       "      <th>overall</th>\n",
       "      <th>verified</th>\n",
       "      <th>reviewTime</th>\n",
       "      <th>reviewerID</th>\n",
       "      <th>asin</th>\n",
       "      <th>style</th>\n",
       "      <th>reviewerName</th>\n",
       "      <th>reviewText</th>\n",
       "      <th>summary</th>\n",
       "      <th>unixReviewTime</th>\n",
       "      <th>vote</th>\n",
       "      <th>image</th>\n",
       "    </tr>\n",
       "  </thead>\n",
       "  <tbody>\n",
       "    <tr>\n",
       "      <th>0</th>\n",
       "      <td>5</td>\n",
       "      <td>True</td>\n",
       "      <td>09 4, 2015</td>\n",
       "      <td>ALJ66O1Y6SLHA</td>\n",
       "      <td>B000K2PJ4K</td>\n",
       "      <td>{'Size:': ' Big Boys', 'Color:': ' Blue/Orange'}</td>\n",
       "      <td>Tonya B.</td>\n",
       "      <td>Great product and price!</td>\n",
       "      <td>Five Stars</td>\n",
       "      <td>1441324800</td>\n",
       "      <td>NaN</td>\n",
       "      <td>NaN</td>\n",
       "    </tr>\n",
       "    <tr>\n",
       "      <th>1</th>\n",
       "      <td>5</td>\n",
       "      <td>True</td>\n",
       "      <td>09 4, 2015</td>\n",
       "      <td>ALJ66O1Y6SLHA</td>\n",
       "      <td>B000K2PJ4K</td>\n",
       "      <td>{'Size:': ' Big Boys', 'Color:': ' Black (3746...</td>\n",
       "      <td>Tonya B.</td>\n",
       "      <td>Great product and price!</td>\n",
       "      <td>Five Stars</td>\n",
       "      <td>1441324800</td>\n",
       "      <td>NaN</td>\n",
       "      <td>NaN</td>\n",
       "    </tr>\n",
       "    <tr>\n",
       "      <th>2</th>\n",
       "      <td>5</td>\n",
       "      <td>True</td>\n",
       "      <td>09 4, 2015</td>\n",
       "      <td>ALJ66O1Y6SLHA</td>\n",
       "      <td>B000K2PJ4K</td>\n",
       "      <td>{'Size:': ' Big Boys', 'Color:': ' Blue/Gray L...</td>\n",
       "      <td>Tonya B.</td>\n",
       "      <td>Great product and price!</td>\n",
       "      <td>Five Stars</td>\n",
       "      <td>1441324800</td>\n",
       "      <td>NaN</td>\n",
       "      <td>NaN</td>\n",
       "    </tr>\n",
       "    <tr>\n",
       "      <th>3</th>\n",
       "      <td>5</td>\n",
       "      <td>True</td>\n",
       "      <td>09 4, 2015</td>\n",
       "      <td>ALJ66O1Y6SLHA</td>\n",
       "      <td>B000K2PJ4K</td>\n",
       "      <td>{'Size:': ' Big Boys', 'Color:': ' Blue (37867...</td>\n",
       "      <td>Tonya B.</td>\n",
       "      <td>Great product and price!</td>\n",
       "      <td>Five Stars</td>\n",
       "      <td>1441324800</td>\n",
       "      <td>NaN</td>\n",
       "      <td>NaN</td>\n",
       "    </tr>\n",
       "    <tr>\n",
       "      <th>4</th>\n",
       "      <td>5</td>\n",
       "      <td>True</td>\n",
       "      <td>09 4, 2015</td>\n",
       "      <td>ALJ66O1Y6SLHA</td>\n",
       "      <td>B000K2PJ4K</td>\n",
       "      <td>{'Size:': ' Big Boys', 'Color:': ' Blue/Pink'}</td>\n",
       "      <td>Tonya B.</td>\n",
       "      <td>Great product and price!</td>\n",
       "      <td>Five Stars</td>\n",
       "      <td>1441324800</td>\n",
       "      <td>NaN</td>\n",
       "      <td>NaN</td>\n",
       "    </tr>\n",
       "    <tr>\n",
       "      <th>...</th>\n",
       "      <td>...</td>\n",
       "      <td>...</td>\n",
       "      <td>...</td>\n",
       "      <td>...</td>\n",
       "      <td>...</td>\n",
       "      <td>...</td>\n",
       "      <td>...</td>\n",
       "      <td>...</td>\n",
       "      <td>...</td>\n",
       "      <td>...</td>\n",
       "      <td>...</td>\n",
       "      <td>...</td>\n",
       "    </tr>\n",
       "    <tr>\n",
       "      <th>3171</th>\n",
       "      <td>5</td>\n",
       "      <td>True</td>\n",
       "      <td>07 2, 2018</td>\n",
       "      <td>A2077NII5H62R2</td>\n",
       "      <td>B005AGO4LU</td>\n",
       "      <td>{'Size:': ' 8.5 B(M) US', 'Color:': ' Green Gl...</td>\n",
       "      <td>Amazon Customer</td>\n",
       "      <td>Perfect fit!</td>\n",
       "      <td>Five Stars</td>\n",
       "      <td>1530489600</td>\n",
       "      <td>NaN</td>\n",
       "      <td>NaN</td>\n",
       "    </tr>\n",
       "    <tr>\n",
       "      <th>3172</th>\n",
       "      <td>5</td>\n",
       "      <td>True</td>\n",
       "      <td>06 28, 2018</td>\n",
       "      <td>A2IBS6PIPAGAB5</td>\n",
       "      <td>B005AGO4LU</td>\n",
       "      <td>{'Size:': ' 5 B(M) US', 'Color:': ' Wolf Grey/...</td>\n",
       "      <td>J. Avila</td>\n",
       "      <td>My favorite cross trainers!</td>\n",
       "      <td>Comfortable</td>\n",
       "      <td>1530144000</td>\n",
       "      <td>NaN</td>\n",
       "      <td>NaN</td>\n",
       "    </tr>\n",
       "    <tr>\n",
       "      <th>3173</th>\n",
       "      <td>5</td>\n",
       "      <td>True</td>\n",
       "      <td>06 25, 2018</td>\n",
       "      <td>A1GTC5EVSJNCQ8</td>\n",
       "      <td>B005AGO4LU</td>\n",
       "      <td>{'Size:': ' 8 B(M) US', 'Color:': ' Blue Tint/...</td>\n",
       "      <td>Amazon Customer</td>\n",
       "      <td>Love them fit perfect</td>\n",
       "      <td>Five Stars</td>\n",
       "      <td>1529884800</td>\n",
       "      <td>NaN</td>\n",
       "      <td>NaN</td>\n",
       "    </tr>\n",
       "    <tr>\n",
       "      <th>3174</th>\n",
       "      <td>5</td>\n",
       "      <td>True</td>\n",
       "      <td>06 20, 2018</td>\n",
       "      <td>A311XHHLM12MUT</td>\n",
       "      <td>B005AGO4LU</td>\n",
       "      <td>{'Size:': ' 9 B(M) US', 'Color:': ' Blue Tint/...</td>\n",
       "      <td>Peter</td>\n",
       "      <td>Favorite Nike shoe ever! The flex sole is exce...</td>\n",
       "      <td>Love them!</td>\n",
       "      <td>1529452800</td>\n",
       "      <td>NaN</td>\n",
       "      <td>NaN</td>\n",
       "    </tr>\n",
       "    <tr>\n",
       "      <th>3175</th>\n",
       "      <td>5</td>\n",
       "      <td>True</td>\n",
       "      <td>06 16, 2018</td>\n",
       "      <td>A135SGOQMVWABQ</td>\n",
       "      <td>B005AGO4LU</td>\n",
       "      <td>{'Size:': ' 9 B(M) US', 'Color:': ' Black/Whit...</td>\n",
       "      <td>Susan</td>\n",
       "      <td>I wear these everyday to work, the gym, etc.</td>\n",
       "      <td>Five Stars</td>\n",
       "      <td>1529107200</td>\n",
       "      <td>NaN</td>\n",
       "      <td>NaN</td>\n",
       "    </tr>\n",
       "  </tbody>\n",
       "</table>\n",
       "<p>3176 rows × 12 columns</p>\n",
       "</div>"
      ],
      "text/plain": [
       "      overall  verified   reviewTime      reviewerID        asin  \\\n",
       "0           5      True   09 4, 2015   ALJ66O1Y6SLHA  B000K2PJ4K   \n",
       "1           5      True   09 4, 2015   ALJ66O1Y6SLHA  B000K2PJ4K   \n",
       "2           5      True   09 4, 2015   ALJ66O1Y6SLHA  B000K2PJ4K   \n",
       "3           5      True   09 4, 2015   ALJ66O1Y6SLHA  B000K2PJ4K   \n",
       "4           5      True   09 4, 2015   ALJ66O1Y6SLHA  B000K2PJ4K   \n",
       "...       ...       ...          ...             ...         ...   \n",
       "3171        5      True   07 2, 2018  A2077NII5H62R2  B005AGO4LU   \n",
       "3172        5      True  06 28, 2018  A2IBS6PIPAGAB5  B005AGO4LU   \n",
       "3173        5      True  06 25, 2018  A1GTC5EVSJNCQ8  B005AGO4LU   \n",
       "3174        5      True  06 20, 2018  A311XHHLM12MUT  B005AGO4LU   \n",
       "3175        5      True  06 16, 2018  A135SGOQMVWABQ  B005AGO4LU   \n",
       "\n",
       "                                                  style     reviewerName  \\\n",
       "0      {'Size:': ' Big Boys', 'Color:': ' Blue/Orange'}         Tonya B.   \n",
       "1     {'Size:': ' Big Boys', 'Color:': ' Black (3746...         Tonya B.   \n",
       "2     {'Size:': ' Big Boys', 'Color:': ' Blue/Gray L...         Tonya B.   \n",
       "3     {'Size:': ' Big Boys', 'Color:': ' Blue (37867...         Tonya B.   \n",
       "4        {'Size:': ' Big Boys', 'Color:': ' Blue/Pink'}         Tonya B.   \n",
       "...                                                 ...              ...   \n",
       "3171  {'Size:': ' 8.5 B(M) US', 'Color:': ' Green Gl...  Amazon Customer   \n",
       "3172  {'Size:': ' 5 B(M) US', 'Color:': ' Wolf Grey/...         J. Avila   \n",
       "3173  {'Size:': ' 8 B(M) US', 'Color:': ' Blue Tint/...  Amazon Customer   \n",
       "3174  {'Size:': ' 9 B(M) US', 'Color:': ' Blue Tint/...            Peter   \n",
       "3175  {'Size:': ' 9 B(M) US', 'Color:': ' Black/Whit...            Susan   \n",
       "\n",
       "                                             reviewText      summary  \\\n",
       "0                              Great product and price!   Five Stars   \n",
       "1                              Great product and price!   Five Stars   \n",
       "2                              Great product and price!   Five Stars   \n",
       "3                              Great product and price!   Five Stars   \n",
       "4                              Great product and price!   Five Stars   \n",
       "...                                                 ...          ...   \n",
       "3171                                       Perfect fit!   Five Stars   \n",
       "3172                        My favorite cross trainers!  Comfortable   \n",
       "3173                              Love them fit perfect   Five Stars   \n",
       "3174  Favorite Nike shoe ever! The flex sole is exce...   Love them!   \n",
       "3175       I wear these everyday to work, the gym, etc.   Five Stars   \n",
       "\n",
       "      unixReviewTime  vote image  \n",
       "0         1441324800   NaN   NaN  \n",
       "1         1441324800   NaN   NaN  \n",
       "2         1441324800   NaN   NaN  \n",
       "3         1441324800   NaN   NaN  \n",
       "4         1441324800   NaN   NaN  \n",
       "...              ...   ...   ...  \n",
       "3171      1530489600   NaN   NaN  \n",
       "3172      1530144000   NaN   NaN  \n",
       "3173      1529884800   NaN   NaN  \n",
       "3174      1529452800   NaN   NaN  \n",
       "3175      1529107200   NaN   NaN  \n",
       "\n",
       "[3176 rows x 12 columns]"
      ]
     },
     "execution_count": 19,
     "metadata": {},
     "output_type": "execute_result"
    }
   ],
   "source": [
    "pd.read_json('AMAZON_FASHION_5.json', lines=True)  #Thanks Belisario"
   ]
  },
  {
   "cell_type": "code",
   "execution_count": 5,
   "metadata": {},
   "outputs": [],
   "source": [
    "input_file = 'AMAZON_FASHION_5.json'"
   ]
  },
  {
   "cell_type": "code",
   "execution_count": 6,
   "metadata": {},
   "outputs": [
    {
     "name": "stdout",
     "output_type": "stream",
     "text": [
      "{\"overall\": 5.0, \"verified\": true, \"reviewTime\": \"09 4, 2015\", \"reviewerID\": \"ALJ66O1Y6SLHA\", \"asin\": \"B000K2PJ4K\", \"style\": {\"Size:\": \" Big Boys\", \"Color:\": \" Blue/Orange\"}, \"reviewerName\": \"Tonya B.\", \"reviewText\": \"Great product and price!\", \"summary\": \"Five Stars\", \"unixReviewTime\": 1441324800}\n",
      "{\"overall\": 5.0, \"verified\": true, \"reviewTime\": \"09 4, 2015\", \"reviewerID\": \"ALJ66O1Y6SLHA\", \"asin\": \"B000K2PJ4K\", \"style\": {\"Size:\": \" Big Boys\", \"Color:\": \" Black (37467610) / Red/White\"}, \"reviewerName\": \"Tonya B.\", \"reviewText\": \"Great product and price!\", \"summary\": \"Five Stars\", \"unixReviewTime\": 1441324800}\n",
      "{\"overall\": 5.0, \"verified\": true, \"reviewTime\": \"09 4, 2015\", \"reviewerID\": \"ALJ66O1Y6SLHA\", \"asin\": \"B000K2PJ4K\", \"style\": {\"Size:\": \" Big Boys\", \"Color:\": \" Blue/Gray Logo\"}, \"reviewerName\": \"Tonya B.\", \"reviewText\": \"Great product and price!\", \"summary\": \"Five Stars\", \"unixReviewTime\": 1441324800}\n"
     ]
    }
   ],
   "source": [
    "%%bash\n",
    "head -n 3 AMAZON_FASHION_5.json"
   ]
  },
  {
   "cell_type": "code",
   "execution_count": 7,
   "metadata": {},
   "outputs": [],
   "source": [
    "with open(input_file) as f:\n",
    "    lines = f.read().splitlines()\n"
   ]
  },
  {
   "cell_type": "code",
   "execution_count": 9,
   "metadata": {},
   "outputs": [
    {
     "data": {
      "text/plain": [
       "list"
      ]
     },
     "execution_count": 9,
     "metadata": {},
     "output_type": "execute_result"
    }
   ],
   "source": [
    "type(lines)"
   ]
  },
  {
   "cell_type": "code",
   "execution_count": 10,
   "metadata": {},
   "outputs": [
    {
     "data": {
      "text/plain": [
       "3176"
      ]
     },
     "execution_count": 10,
     "metadata": {},
     "output_type": "execute_result"
    }
   ],
   "source": [
    "len(lines)"
   ]
  },
  {
   "cell_type": "code",
   "execution_count": 7,
   "metadata": {},
   "outputs": [
    {
     "data": {
      "text/plain": [
       "'{\"overall\": 5.0, \"verified\": true, \"reviewTime\": \"09 4, 2015\", \"reviewerID\": \"ALJ66O1Y6SLHA\", \"asin\": \"B000K2PJ4K\", \"style\": {\"Size:\": \" Big Boys\", \"Color:\": \" Blue/Orange\"}, \"reviewerName\": \"Tonya B.\", \"reviewText\": \"Great product and price!\", \"summary\": \"Five Stars\", \"unixReviewTime\": 1441324800}'"
      ]
     },
     "execution_count": 7,
     "metadata": {},
     "output_type": "execute_result"
    }
   ],
   "source": [
    "lines[0]"
   ]
  },
  {
   "cell_type": "code",
   "execution_count": 11,
   "metadata": {},
   "outputs": [
    {
     "name": "stdout",
     "output_type": "stream",
     "text": [
      "<class 'pandas.core.frame.DataFrame'>\n",
      "RangeIndex: 3176 entries, 0 to 3175\n",
      "Data columns (total 1 columns):\n",
      " #   Column        Non-Null Count  Dtype \n",
      "---  ------        --------------  ----- \n",
      " 0   json_element  3176 non-null   object\n",
      "dtypes: object(1)\n",
      "memory usage: 24.9+ KB\n"
     ]
    }
   ],
   "source": [
    "df_inter = pd.DataFrame(lines)\n",
    "\n",
    "df_inter.columns = ['json_element']\n",
    "df_inter.info()"
   ]
  },
  {
   "cell_type": "code",
   "execution_count": 14,
   "metadata": {},
   "outputs": [
    {
     "data": {
      "text/html": [
       "<div>\n",
       "<style scoped>\n",
       "    .dataframe tbody tr th:only-of-type {\n",
       "        vertical-align: middle;\n",
       "    }\n",
       "\n",
       "    .dataframe tbody tr th {\n",
       "        vertical-align: top;\n",
       "    }\n",
       "\n",
       "    .dataframe thead th {\n",
       "        text-align: right;\n",
       "    }\n",
       "</style>\n",
       "<table border=\"1\" class=\"dataframe\">\n",
       "  <thead>\n",
       "    <tr style=\"text-align: right;\">\n",
       "      <th></th>\n",
       "      <th>json_element</th>\n",
       "    </tr>\n",
       "  </thead>\n",
       "  <tbody>\n",
       "    <tr>\n",
       "      <th>0</th>\n",
       "      <td>{\"overall\": 5.0, \"verified\": true, \"reviewTime...</td>\n",
       "    </tr>\n",
       "    <tr>\n",
       "      <th>1</th>\n",
       "      <td>{\"overall\": 5.0, \"verified\": true, \"reviewTime...</td>\n",
       "    </tr>\n",
       "    <tr>\n",
       "      <th>2</th>\n",
       "      <td>{\"overall\": 5.0, \"verified\": true, \"reviewTime...</td>\n",
       "    </tr>\n",
       "    <tr>\n",
       "      <th>3</th>\n",
       "      <td>{\"overall\": 5.0, \"verified\": true, \"reviewTime...</td>\n",
       "    </tr>\n",
       "    <tr>\n",
       "      <th>4</th>\n",
       "      <td>{\"overall\": 5.0, \"verified\": true, \"reviewTime...</td>\n",
       "    </tr>\n",
       "  </tbody>\n",
       "</table>\n",
       "</div>"
      ],
      "text/plain": [
       "                                        json_element\n",
       "0  {\"overall\": 5.0, \"verified\": true, \"reviewTime...\n",
       "1  {\"overall\": 5.0, \"verified\": true, \"reviewTime...\n",
       "2  {\"overall\": 5.0, \"verified\": true, \"reviewTime...\n",
       "3  {\"overall\": 5.0, \"verified\": true, \"reviewTime...\n",
       "4  {\"overall\": 5.0, \"verified\": true, \"reviewTime..."
      ]
     },
     "execution_count": 14,
     "metadata": {},
     "output_type": "execute_result"
    }
   ],
   "source": [
    "df_inter.head()"
   ]
  },
  {
   "cell_type": "code",
   "execution_count": 9,
   "metadata": {},
   "outputs": [
    {
     "data": {
      "text/plain": [
       "0       {'overall': 5.0, 'verified': True, 'reviewTime...\n",
       "1       {'overall': 5.0, 'verified': True, 'reviewTime...\n",
       "2       {'overall': 5.0, 'verified': True, 'reviewTime...\n",
       "3       {'overall': 5.0, 'verified': True, 'reviewTime...\n",
       "4       {'overall': 5.0, 'verified': True, 'reviewTime...\n",
       "                              ...                        \n",
       "3171    {'overall': 5.0, 'verified': True, 'reviewTime...\n",
       "3172    {'overall': 5.0, 'verified': True, 'reviewTime...\n",
       "3173    {'overall': 5.0, 'verified': True, 'reviewTime...\n",
       "3174    {'overall': 5.0, 'verified': True, 'reviewTime...\n",
       "3175    {'overall': 5.0, 'verified': True, 'reviewTime...\n",
       "Name: json_element, Length: 3176, dtype: object"
      ]
     },
     "execution_count": 9,
     "metadata": {},
     "output_type": "execute_result"
    }
   ],
   "source": [
    "df_inter['json_element'].apply(json.loads)"
   ]
  },
  {
   "cell_type": "code",
   "execution_count": 15,
   "metadata": {},
   "outputs": [
    {
     "data": {
      "text/html": [
       "<div>\n",
       "<style scoped>\n",
       "    .dataframe tbody tr th:only-of-type {\n",
       "        vertical-align: middle;\n",
       "    }\n",
       "\n",
       "    .dataframe tbody tr th {\n",
       "        vertical-align: top;\n",
       "    }\n",
       "\n",
       "    .dataframe thead th {\n",
       "        text-align: right;\n",
       "    }\n",
       "</style>\n",
       "<table border=\"1\" class=\"dataframe\">\n",
       "  <thead>\n",
       "    <tr style=\"text-align: right;\">\n",
       "      <th></th>\n",
       "      <th>overall</th>\n",
       "      <th>verified</th>\n",
       "      <th>reviewTime</th>\n",
       "      <th>reviewerID</th>\n",
       "      <th>asin</th>\n",
       "      <th>reviewerName</th>\n",
       "      <th>reviewText</th>\n",
       "      <th>summary</th>\n",
       "      <th>unixReviewTime</th>\n",
       "      <th>style.Size:</th>\n",
       "      <th>style.Color:</th>\n",
       "      <th>style.Size Name:</th>\n",
       "      <th>style.Style:</th>\n",
       "      <th>vote</th>\n",
       "      <th>image</th>\n",
       "    </tr>\n",
       "  </thead>\n",
       "  <tbody>\n",
       "    <tr>\n",
       "      <th>0</th>\n",
       "      <td>5.0</td>\n",
       "      <td>True</td>\n",
       "      <td>09 4, 2015</td>\n",
       "      <td>ALJ66O1Y6SLHA</td>\n",
       "      <td>B000K2PJ4K</td>\n",
       "      <td>Tonya B.</td>\n",
       "      <td>Great product and price!</td>\n",
       "      <td>Five Stars</td>\n",
       "      <td>1441324800</td>\n",
       "      <td>Big Boys</td>\n",
       "      <td>Blue/Orange</td>\n",
       "      <td>NaN</td>\n",
       "      <td>NaN</td>\n",
       "      <td>NaN</td>\n",
       "      <td>NaN</td>\n",
       "    </tr>\n",
       "    <tr>\n",
       "      <th>1</th>\n",
       "      <td>5.0</td>\n",
       "      <td>True</td>\n",
       "      <td>09 4, 2015</td>\n",
       "      <td>ALJ66O1Y6SLHA</td>\n",
       "      <td>B000K2PJ4K</td>\n",
       "      <td>Tonya B.</td>\n",
       "      <td>Great product and price!</td>\n",
       "      <td>Five Stars</td>\n",
       "      <td>1441324800</td>\n",
       "      <td>Big Boys</td>\n",
       "      <td>Black (37467610) / Red/White</td>\n",
       "      <td>NaN</td>\n",
       "      <td>NaN</td>\n",
       "      <td>NaN</td>\n",
       "      <td>NaN</td>\n",
       "    </tr>\n",
       "    <tr>\n",
       "      <th>2</th>\n",
       "      <td>5.0</td>\n",
       "      <td>True</td>\n",
       "      <td>09 4, 2015</td>\n",
       "      <td>ALJ66O1Y6SLHA</td>\n",
       "      <td>B000K2PJ4K</td>\n",
       "      <td>Tonya B.</td>\n",
       "      <td>Great product and price!</td>\n",
       "      <td>Five Stars</td>\n",
       "      <td>1441324800</td>\n",
       "      <td>Big Boys</td>\n",
       "      <td>Blue/Gray Logo</td>\n",
       "      <td>NaN</td>\n",
       "      <td>NaN</td>\n",
       "      <td>NaN</td>\n",
       "      <td>NaN</td>\n",
       "    </tr>\n",
       "    <tr>\n",
       "      <th>3</th>\n",
       "      <td>5.0</td>\n",
       "      <td>True</td>\n",
       "      <td>09 4, 2015</td>\n",
       "      <td>ALJ66O1Y6SLHA</td>\n",
       "      <td>B000K2PJ4K</td>\n",
       "      <td>Tonya B.</td>\n",
       "      <td>Great product and price!</td>\n",
       "      <td>Five Stars</td>\n",
       "      <td>1441324800</td>\n",
       "      <td>Big Boys</td>\n",
       "      <td>Blue (37867638-99) / Yellow</td>\n",
       "      <td>NaN</td>\n",
       "      <td>NaN</td>\n",
       "      <td>NaN</td>\n",
       "      <td>NaN</td>\n",
       "    </tr>\n",
       "    <tr>\n",
       "      <th>4</th>\n",
       "      <td>5.0</td>\n",
       "      <td>True</td>\n",
       "      <td>09 4, 2015</td>\n",
       "      <td>ALJ66O1Y6SLHA</td>\n",
       "      <td>B000K2PJ4K</td>\n",
       "      <td>Tonya B.</td>\n",
       "      <td>Great product and price!</td>\n",
       "      <td>Five Stars</td>\n",
       "      <td>1441324800</td>\n",
       "      <td>Big Boys</td>\n",
       "      <td>Blue/Pink</td>\n",
       "      <td>NaN</td>\n",
       "      <td>NaN</td>\n",
       "      <td>NaN</td>\n",
       "      <td>NaN</td>\n",
       "    </tr>\n",
       "  </tbody>\n",
       "</table>\n",
       "</div>"
      ],
      "text/plain": [
       "   overall  verified  reviewTime     reviewerID        asin reviewerName  \\\n",
       "0      5.0      True  09 4, 2015  ALJ66O1Y6SLHA  B000K2PJ4K     Tonya B.   \n",
       "1      5.0      True  09 4, 2015  ALJ66O1Y6SLHA  B000K2PJ4K     Tonya B.   \n",
       "2      5.0      True  09 4, 2015  ALJ66O1Y6SLHA  B000K2PJ4K     Tonya B.   \n",
       "3      5.0      True  09 4, 2015  ALJ66O1Y6SLHA  B000K2PJ4K     Tonya B.   \n",
       "4      5.0      True  09 4, 2015  ALJ66O1Y6SLHA  B000K2PJ4K     Tonya B.   \n",
       "\n",
       "                 reviewText     summary  unixReviewTime style.Size:  \\\n",
       "0  Great product and price!  Five Stars      1441324800    Big Boys   \n",
       "1  Great product and price!  Five Stars      1441324800    Big Boys   \n",
       "2  Great product and price!  Five Stars      1441324800    Big Boys   \n",
       "3  Great product and price!  Five Stars      1441324800    Big Boys   \n",
       "4  Great product and price!  Five Stars      1441324800    Big Boys   \n",
       "\n",
       "                    style.Color: style.Size Name: style.Style: vote image  \n",
       "0                    Blue/Orange              NaN          NaN  NaN   NaN  \n",
       "1   Black (37467610) / Red/White              NaN          NaN  NaN   NaN  \n",
       "2                 Blue/Gray Logo              NaN          NaN  NaN   NaN  \n",
       "3    Blue (37867638-99) / Yellow              NaN          NaN  NaN   NaN  \n",
       "4                      Blue/Pink              NaN          NaN  NaN   NaN  "
      ]
     },
     "execution_count": 15,
     "metadata": {},
     "output_type": "execute_result"
    }
   ],
   "source": [
    "df_final = pd.json_normalize(df_inter['json_element'].apply(json.loads))\n",
    "\n",
    "df_final.head()"
   ]
  },
  {
   "cell_type": "code",
   "execution_count": 11,
   "metadata": {},
   "outputs": [
    {
     "name": "stdout",
     "output_type": "stream",
     "text": [
      "<class 'pandas.core.frame.DataFrame'>\n",
      "RangeIndex: 3176 entries, 0 to 3175\n",
      "Data columns (total 15 columns):\n",
      " #   Column            Non-Null Count  Dtype  \n",
      "---  ------            --------------  -----  \n",
      " 0   overall           3176 non-null   float64\n",
      " 1   verified          3176 non-null   bool   \n",
      " 2   reviewTime        3176 non-null   object \n",
      " 3   reviewerID        3176 non-null   object \n",
      " 4   asin              3176 non-null   object \n",
      " 5   reviewerName      3176 non-null   object \n",
      " 6   reviewText        3160 non-null   object \n",
      " 7   summary           3176 non-null   object \n",
      " 8   unixReviewTime    3176 non-null   int64  \n",
      " 9   style.Size:       3102 non-null   object \n",
      " 10  style.Color:      3095 non-null   object \n",
      " 11  style.Size Name:  2 non-null      object \n",
      " 12  style.Style:      3 non-null      object \n",
      " 13  vote              297 non-null    object \n",
      " 14  image             106 non-null    object \n",
      "dtypes: bool(1), float64(1), int64(1), object(12)\n",
      "memory usage: 350.6+ KB\n"
     ]
    }
   ],
   "source": [
    "df_final.info()"
   ]
  },
  {
   "cell_type": "code",
   "execution_count": 12,
   "metadata": {},
   "outputs": [
    {
     "data": {
      "text/plain": [
       "0                                Great product and price!\n",
       "1                                Great product and price!\n",
       "2                                Great product and price!\n",
       "3                                Great product and price!\n",
       "4                                Great product and price!\n",
       "                              ...                        \n",
       "3171                                         Perfect fit!\n",
       "3172                          My favorite cross trainers!\n",
       "3173                                Love them fit perfect\n",
       "3174    Favorite Nike shoe ever! The flex sole is exce...\n",
       "3175         I wear these everyday to work, the gym, etc.\n",
       "Name: reviewText, Length: 3176, dtype: object"
      ]
     },
     "execution_count": 12,
     "metadata": {},
     "output_type": "execute_result"
    }
   ],
   "source": [
    "df_final.reviewText"
   ]
  },
  {
   "cell_type": "code",
   "execution_count": 16,
   "metadata": {},
   "outputs": [
    {
     "name": "stderr",
     "output_type": "stream",
     "text": [
      "/Users/seanreed1/miniconda/lib/python3.8/site-packages/seaborn/_decorators.py:36: FutureWarning: Pass the following variable as a keyword arg: x. From version 0.12, the only valid positional argument will be `data`, and passing other arguments without an explicit keyword will result in an error or misinterpretation.\n",
      "  warnings.warn(\n"
     ]
    },
    {
     "data": {
      "text/plain": [
       "<AxesSubplot:xlabel='overall', ylabel='count'>"
      ]
     },
     "execution_count": 16,
     "metadata": {},
     "output_type": "execute_result"
    },
    {
     "data": {
      "image/png": "[encoded data removed]",
      "text/plain": [
       "<Figure size 432x288 with 1 Axes>"
      ]
     },
     "metadata": {
      "needs_background": "light"
     },
     "output_type": "display_data"
    }
   ],
   "source": [
    "sns.countplot(df_final.overall)"
   ]
  },
  {
   "cell_type": "code",
   "execution_count": null,
   "metadata": {},
   "outputs": [],
   "source": []
  },
  {
   "cell_type": "code",
   "execution_count": null,
   "metadata": {},
   "outputs": [],
   "source": []
  }
 ],
 "metadata": {
  "kernelspec": {
   "display_name": "Python 3",
   "language": "python",
   "name": "python3"
  },
  "language_info": {
   "codemirror_mode": {
    "name": "ipython",
    "version": 3
   },
   "file_extension": ".py",
   "mimetype": "text/x-python",
   "name": "python",
   "nbconvert_exporter": "python",
   "pygments_lexer": "ipython3",
   "version": "3.8.6"
  }
 },
 "nbformat": 4,
 "nbformat_minor": 4
}
